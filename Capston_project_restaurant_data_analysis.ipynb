{
  "nbformat": 4,
  "nbformat_minor": 0,
  "metadata": {
    "colab": {
      "provenance": []
    },
    "kernelspec": {
      "name": "python3",
      "display_name": "Python 3"
    },
    "language_info": {
      "name": "python"
    }
  },
  "cells": [
    {
      "cell_type": "code",
      "execution_count": null,
      "metadata": {
        "id": "Sj5C5NARjbm4"
      },
      "outputs": [],
      "source": [
        "import pandas as pd\n",
        "import numpy as np\n",
        "import matplotlib.pyplot as plt\n",
        "import seaborn as sns\n",
        "import warnings\n",
        "warnings.filterwarnings('ignore')"
      ]
    },
    {
      "cell_type": "code",
      "source": [
        "df = pd.read_excel('/content/drive/MyDrive/Data Analysis Project - 1/data.xlsx')"
      ],
      "metadata": {
        "id": "yMVamX_GpoEZ"
      },
      "execution_count": null,
      "outputs": []
    },
    {
      "cell_type": "code",
      "source": [
        "df.head()"
      ],
      "metadata": {
        "colab": {
          "base_uri": "https://localhost:8080/",
          "height": 556
        },
        "id": "GCUHT67ms5cp",
        "outputId": "8fbb3505-40ca-4fda-d38c-105438ee8b4e"
      },
      "execution_count": null,
      "outputs": [
        {
          "output_type": "execute_result",
          "data": {
            "text/plain": [
              "   Restaurant ID              Restaurant Name  Country Code     City  \\\n",
              "0        7402935                         Skye            94  Jakarta   \n",
              "1        7410290     Satoo - Hotel Shangri-La            94  Jakarta   \n",
              "2        7420899                   Sushi Masa            94  Jakarta   \n",
              "3        7421967               3 Wise Monkeys            94  Jakarta   \n",
              "4        7422489  Avec Moi Restaurant and Bar            94  Jakarta   \n",
              "\n",
              "                                             Address  \\\n",
              "0  Menara BCA, Lantai 56, Jl. MH. Thamrin, Thamri...   \n",
              "1               Hotel Shangri-La, Jl. Jend. Sudirman   \n",
              "2                   Jl. Tuna Raya No. 5, Penjaringan   \n",
              "3                Jl. Suryo No. 26, Senopati, Jakarta   \n",
              "4  Gedung PIC, Jl. Teluk Betung 43, Thamrin, Jakarta   \n",
              "\n",
              "                        Locality                        Locality Verbose  \\\n",
              "0  Grand Indonesia Mall, Thamrin  Grand Indonesia Mall, Thamrin, Jakarta   \n",
              "1     Hotel Shangri-La, Sudirman     Hotel Shangri-La, Sudirman, Jakarta   \n",
              "2                    Penjaringan                    Penjaringan, Jakarta   \n",
              "3                       Senopati                       Senopati, Jakarta   \n",
              "4                        Thamrin                        Thamrin, Jakarta   \n",
              "\n",
              "    Longitude  Latitude                    Cuisines  Average Cost for two  \\\n",
              "0  106.821999 -6.196778        Italian, Continental                800000   \n",
              "1  106.818961 -6.203292  Asian, Indonesian, Western                800000   \n",
              "2  106.800144 -6.101298             Sushi, Japanese                500000   \n",
              "3  106.813400 -6.235241                    Japanese                450000   \n",
              "4  106.821023 -6.196270             French, Western                350000   \n",
              "\n",
              "                 Currency Has Table booking Has Online delivery  Price range  \\\n",
              "0  Indonesian Rupiah(IDR)                No                  No            3   \n",
              "1  Indonesian Rupiah(IDR)                No                  No            3   \n",
              "2  Indonesian Rupiah(IDR)                No                  No            3   \n",
              "3  Indonesian Rupiah(IDR)                No                  No            3   \n",
              "4  Indonesian Rupiah(IDR)                No                  No            3   \n",
              "\n",
              "   Aggregate rating Rating color Rating text  Votes  \n",
              "0               4.1        Green   Very Good   1498  \n",
              "1               4.6   Dark Green   Excellent    873  \n",
              "2               4.9   Dark Green   Excellent    605  \n",
              "3               4.2        Green   Very Good    395  \n",
              "4               4.3        Green   Very Good    243  "
            ],
            "text/html": [
              "\n",
              "  <div id=\"df-4676bee2-9c8c-4538-8eb4-ebb9b0b4e399\" class=\"colab-df-container\">\n",
              "    <div>\n",
              "<style scoped>\n",
              "    .dataframe tbody tr th:only-of-type {\n",
              "        vertical-align: middle;\n",
              "    }\n",
              "\n",
              "    .dataframe tbody tr th {\n",
              "        vertical-align: top;\n",
              "    }\n",
              "\n",
              "    .dataframe thead th {\n",
              "        text-align: right;\n",
              "    }\n",
              "</style>\n",
              "<table border=\"1\" class=\"dataframe\">\n",
              "  <thead>\n",
              "    <tr style=\"text-align: right;\">\n",
              "      <th></th>\n",
              "      <th>Restaurant ID</th>\n",
              "      <th>Restaurant Name</th>\n",
              "      <th>Country Code</th>\n",
              "      <th>City</th>\n",
              "      <th>Address</th>\n",
              "      <th>Locality</th>\n",
              "      <th>Locality Verbose</th>\n",
              "      <th>Longitude</th>\n",
              "      <th>Latitude</th>\n",
              "      <th>Cuisines</th>\n",
              "      <th>Average Cost for two</th>\n",
              "      <th>Currency</th>\n",
              "      <th>Has Table booking</th>\n",
              "      <th>Has Online delivery</th>\n",
              "      <th>Price range</th>\n",
              "      <th>Aggregate rating</th>\n",
              "      <th>Rating color</th>\n",
              "      <th>Rating text</th>\n",
              "      <th>Votes</th>\n",
              "    </tr>\n",
              "  </thead>\n",
              "  <tbody>\n",
              "    <tr>\n",
              "      <th>0</th>\n",
              "      <td>7402935</td>\n",
              "      <td>Skye</td>\n",
              "      <td>94</td>\n",
              "      <td>Jakarta</td>\n",
              "      <td>Menara BCA, Lantai 56, Jl. MH. Thamrin, Thamri...</td>\n",
              "      <td>Grand Indonesia Mall, Thamrin</td>\n",
              "      <td>Grand Indonesia Mall, Thamrin, Jakarta</td>\n",
              "      <td>106.821999</td>\n",
              "      <td>-6.196778</td>\n",
              "      <td>Italian, Continental</td>\n",
              "      <td>800000</td>\n",
              "      <td>Indonesian Rupiah(IDR)</td>\n",
              "      <td>No</td>\n",
              "      <td>No</td>\n",
              "      <td>3</td>\n",
              "      <td>4.1</td>\n",
              "      <td>Green</td>\n",
              "      <td>Very Good</td>\n",
              "      <td>1498</td>\n",
              "    </tr>\n",
              "    <tr>\n",
              "      <th>1</th>\n",
              "      <td>7410290</td>\n",
              "      <td>Satoo - Hotel Shangri-La</td>\n",
              "      <td>94</td>\n",
              "      <td>Jakarta</td>\n",
              "      <td>Hotel Shangri-La, Jl. Jend. Sudirman</td>\n",
              "      <td>Hotel Shangri-La, Sudirman</td>\n",
              "      <td>Hotel Shangri-La, Sudirman, Jakarta</td>\n",
              "      <td>106.818961</td>\n",
              "      <td>-6.203292</td>\n",
              "      <td>Asian, Indonesian, Western</td>\n",
              "      <td>800000</td>\n",
              "      <td>Indonesian Rupiah(IDR)</td>\n",
              "      <td>No</td>\n",
              "      <td>No</td>\n",
              "      <td>3</td>\n",
              "      <td>4.6</td>\n",
              "      <td>Dark Green</td>\n",
              "      <td>Excellent</td>\n",
              "      <td>873</td>\n",
              "    </tr>\n",
              "    <tr>\n",
              "      <th>2</th>\n",
              "      <td>7420899</td>\n",
              "      <td>Sushi Masa</td>\n",
              "      <td>94</td>\n",
              "      <td>Jakarta</td>\n",
              "      <td>Jl. Tuna Raya No. 5, Penjaringan</td>\n",
              "      <td>Penjaringan</td>\n",
              "      <td>Penjaringan, Jakarta</td>\n",
              "      <td>106.800144</td>\n",
              "      <td>-6.101298</td>\n",
              "      <td>Sushi, Japanese</td>\n",
              "      <td>500000</td>\n",
              "      <td>Indonesian Rupiah(IDR)</td>\n",
              "      <td>No</td>\n",
              "      <td>No</td>\n",
              "      <td>3</td>\n",
              "      <td>4.9</td>\n",
              "      <td>Dark Green</td>\n",
              "      <td>Excellent</td>\n",
              "      <td>605</td>\n",
              "    </tr>\n",
              "    <tr>\n",
              "      <th>3</th>\n",
              "      <td>7421967</td>\n",
              "      <td>3 Wise Monkeys</td>\n",
              "      <td>94</td>\n",
              "      <td>Jakarta</td>\n",
              "      <td>Jl. Suryo No. 26, Senopati, Jakarta</td>\n",
              "      <td>Senopati</td>\n",
              "      <td>Senopati, Jakarta</td>\n",
              "      <td>106.813400</td>\n",
              "      <td>-6.235241</td>\n",
              "      <td>Japanese</td>\n",
              "      <td>450000</td>\n",
              "      <td>Indonesian Rupiah(IDR)</td>\n",
              "      <td>No</td>\n",
              "      <td>No</td>\n",
              "      <td>3</td>\n",
              "      <td>4.2</td>\n",
              "      <td>Green</td>\n",
              "      <td>Very Good</td>\n",
              "      <td>395</td>\n",
              "    </tr>\n",
              "    <tr>\n",
              "      <th>4</th>\n",
              "      <td>7422489</td>\n",
              "      <td>Avec Moi Restaurant and Bar</td>\n",
              "      <td>94</td>\n",
              "      <td>Jakarta</td>\n",
              "      <td>Gedung PIC, Jl. Teluk Betung 43, Thamrin, Jakarta</td>\n",
              "      <td>Thamrin</td>\n",
              "      <td>Thamrin, Jakarta</td>\n",
              "      <td>106.821023</td>\n",
              "      <td>-6.196270</td>\n",
              "      <td>French, Western</td>\n",
              "      <td>350000</td>\n",
              "      <td>Indonesian Rupiah(IDR)</td>\n",
              "      <td>No</td>\n",
              "      <td>No</td>\n",
              "      <td>3</td>\n",
              "      <td>4.3</td>\n",
              "      <td>Green</td>\n",
              "      <td>Very Good</td>\n",
              "      <td>243</td>\n",
              "    </tr>\n",
              "  </tbody>\n",
              "</table>\n",
              "</div>\n",
              "    <div class=\"colab-df-buttons\">\n",
              "\n",
              "  <div class=\"colab-df-container\">\n",
              "    <button class=\"colab-df-convert\" onclick=\"convertToInteractive('df-4676bee2-9c8c-4538-8eb4-ebb9b0b4e399')\"\n",
              "            title=\"Convert this dataframe to an interactive table.\"\n",
              "            style=\"display:none;\">\n",
              "\n",
              "  <svg xmlns=\"http://www.w3.org/2000/svg\" height=\"24px\" viewBox=\"0 -960 960 960\">\n",
              "    <path d=\"M120-120v-720h720v720H120Zm60-500h600v-160H180v160Zm220 220h160v-160H400v160Zm0 220h160v-160H400v160ZM180-400h160v-160H180v160Zm440 0h160v-160H620v160ZM180-180h160v-160H180v160Zm440 0h160v-160H620v160Z\"/>\n",
              "  </svg>\n",
              "    </button>\n",
              "\n",
              "  <style>\n",
              "    .colab-df-container {\n",
              "      display:flex;\n",
              "      gap: 12px;\n",
              "    }\n",
              "\n",
              "    .colab-df-convert {\n",
              "      background-color: #E8F0FE;\n",
              "      border: none;\n",
              "      border-radius: 50%;\n",
              "      cursor: pointer;\n",
              "      display: none;\n",
              "      fill: #1967D2;\n",
              "      height: 32px;\n",
              "      padding: 0 0 0 0;\n",
              "      width: 32px;\n",
              "    }\n",
              "\n",
              "    .colab-df-convert:hover {\n",
              "      background-color: #E2EBFA;\n",
              "      box-shadow: 0px 1px 2px rgba(60, 64, 67, 0.3), 0px 1px 3px 1px rgba(60, 64, 67, 0.15);\n",
              "      fill: #174EA6;\n",
              "    }\n",
              "\n",
              "    .colab-df-buttons div {\n",
              "      margin-bottom: 4px;\n",
              "    }\n",
              "\n",
              "    [theme=dark] .colab-df-convert {\n",
              "      background-color: #3B4455;\n",
              "      fill: #D2E3FC;\n",
              "    }\n",
              "\n",
              "    [theme=dark] .colab-df-convert:hover {\n",
              "      background-color: #434B5C;\n",
              "      box-shadow: 0px 1px 3px 1px rgba(0, 0, 0, 0.15);\n",
              "      filter: drop-shadow(0px 1px 2px rgba(0, 0, 0, 0.3));\n",
              "      fill: #FFFFFF;\n",
              "    }\n",
              "  </style>\n",
              "\n",
              "    <script>\n",
              "      const buttonEl =\n",
              "        document.querySelector('#df-4676bee2-9c8c-4538-8eb4-ebb9b0b4e399 button.colab-df-convert');\n",
              "      buttonEl.style.display =\n",
              "        google.colab.kernel.accessAllowed ? 'block' : 'none';\n",
              "\n",
              "      async function convertToInteractive(key) {\n",
              "        const element = document.querySelector('#df-4676bee2-9c8c-4538-8eb4-ebb9b0b4e399');\n",
              "        const dataTable =\n",
              "          await google.colab.kernel.invokeFunction('convertToInteractive',\n",
              "                                                    [key], {});\n",
              "        if (!dataTable) return;\n",
              "\n",
              "        const docLinkHtml = 'Like what you see? Visit the ' +\n",
              "          '<a target=\"_blank\" href=https://colab.research.google.com/notebooks/data_table.ipynb>data table notebook</a>'\n",
              "          + ' to learn more about interactive tables.';\n",
              "        element.innerHTML = '';\n",
              "        dataTable['output_type'] = 'display_data';\n",
              "        await google.colab.output.renderOutput(dataTable, element);\n",
              "        const docLink = document.createElement('div');\n",
              "        docLink.innerHTML = docLinkHtml;\n",
              "        element.appendChild(docLink);\n",
              "      }\n",
              "    </script>\n",
              "  </div>\n",
              "\n",
              "\n",
              "    <div id=\"df-0f53e0c7-1996-4fee-b937-6e5cdada9694\">\n",
              "      <button class=\"colab-df-quickchart\" onclick=\"quickchart('df-0f53e0c7-1996-4fee-b937-6e5cdada9694')\"\n",
              "                title=\"Suggest charts\"\n",
              "                style=\"display:none;\">\n",
              "\n",
              "<svg xmlns=\"http://www.w3.org/2000/svg\" height=\"24px\"viewBox=\"0 0 24 24\"\n",
              "     width=\"24px\">\n",
              "    <g>\n",
              "        <path d=\"M19 3H5c-1.1 0-2 .9-2 2v14c0 1.1.9 2 2 2h14c1.1 0 2-.9 2-2V5c0-1.1-.9-2-2-2zM9 17H7v-7h2v7zm4 0h-2V7h2v10zm4 0h-2v-4h2v4z\"/>\n",
              "    </g>\n",
              "</svg>\n",
              "      </button>\n",
              "\n",
              "<style>\n",
              "  .colab-df-quickchart {\n",
              "      --bg-color: #E8F0FE;\n",
              "      --fill-color: #1967D2;\n",
              "      --hover-bg-color: #E2EBFA;\n",
              "      --hover-fill-color: #174EA6;\n",
              "      --disabled-fill-color: #AAA;\n",
              "      --disabled-bg-color: #DDD;\n",
              "  }\n",
              "\n",
              "  [theme=dark] .colab-df-quickchart {\n",
              "      --bg-color: #3B4455;\n",
              "      --fill-color: #D2E3FC;\n",
              "      --hover-bg-color: #434B5C;\n",
              "      --hover-fill-color: #FFFFFF;\n",
              "      --disabled-bg-color: #3B4455;\n",
              "      --disabled-fill-color: #666;\n",
              "  }\n",
              "\n",
              "  .colab-df-quickchart {\n",
              "    background-color: var(--bg-color);\n",
              "    border: none;\n",
              "    border-radius: 50%;\n",
              "    cursor: pointer;\n",
              "    display: none;\n",
              "    fill: var(--fill-color);\n",
              "    height: 32px;\n",
              "    padding: 0;\n",
              "    width: 32px;\n",
              "  }\n",
              "\n",
              "  .colab-df-quickchart:hover {\n",
              "    background-color: var(--hover-bg-color);\n",
              "    box-shadow: 0 1px 2px rgba(60, 64, 67, 0.3), 0 1px 3px 1px rgba(60, 64, 67, 0.15);\n",
              "    fill: var(--button-hover-fill-color);\n",
              "  }\n",
              "\n",
              "  .colab-df-quickchart-complete:disabled,\n",
              "  .colab-df-quickchart-complete:disabled:hover {\n",
              "    background-color: var(--disabled-bg-color);\n",
              "    fill: var(--disabled-fill-color);\n",
              "    box-shadow: none;\n",
              "  }\n",
              "\n",
              "  .colab-df-spinner {\n",
              "    border: 2px solid var(--fill-color);\n",
              "    border-color: transparent;\n",
              "    border-bottom-color: var(--fill-color);\n",
              "    animation:\n",
              "      spin 1s steps(1) infinite;\n",
              "  }\n",
              "\n",
              "  @keyframes spin {\n",
              "    0% {\n",
              "      border-color: transparent;\n",
              "      border-bottom-color: var(--fill-color);\n",
              "      border-left-color: var(--fill-color);\n",
              "    }\n",
              "    20% {\n",
              "      border-color: transparent;\n",
              "      border-left-color: var(--fill-color);\n",
              "      border-top-color: var(--fill-color);\n",
              "    }\n",
              "    30% {\n",
              "      border-color: transparent;\n",
              "      border-left-color: var(--fill-color);\n",
              "      border-top-color: var(--fill-color);\n",
              "      border-right-color: var(--fill-color);\n",
              "    }\n",
              "    40% {\n",
              "      border-color: transparent;\n",
              "      border-right-color: var(--fill-color);\n",
              "      border-top-color: var(--fill-color);\n",
              "    }\n",
              "    60% {\n",
              "      border-color: transparent;\n",
              "      border-right-color: var(--fill-color);\n",
              "    }\n",
              "    80% {\n",
              "      border-color: transparent;\n",
              "      border-right-color: var(--fill-color);\n",
              "      border-bottom-color: var(--fill-color);\n",
              "    }\n",
              "    90% {\n",
              "      border-color: transparent;\n",
              "      border-bottom-color: var(--fill-color);\n",
              "    }\n",
              "  }\n",
              "</style>\n",
              "\n",
              "      <script>\n",
              "        async function quickchart(key) {\n",
              "          const quickchartButtonEl =\n",
              "            document.querySelector('#' + key + ' button');\n",
              "          quickchartButtonEl.disabled = true;  // To prevent multiple clicks.\n",
              "          quickchartButtonEl.classList.add('colab-df-spinner');\n",
              "          try {\n",
              "            const charts = await google.colab.kernel.invokeFunction(\n",
              "                'suggestCharts', [key], {});\n",
              "          } catch (error) {\n",
              "            console.error('Error during call to suggestCharts:', error);\n",
              "          }\n",
              "          quickchartButtonEl.classList.remove('colab-df-spinner');\n",
              "          quickchartButtonEl.classList.add('colab-df-quickchart-complete');\n",
              "        }\n",
              "        (() => {\n",
              "          let quickchartButtonEl =\n",
              "            document.querySelector('#df-0f53e0c7-1996-4fee-b937-6e5cdada9694 button');\n",
              "          quickchartButtonEl.style.display =\n",
              "            google.colab.kernel.accessAllowed ? 'block' : 'none';\n",
              "        })();\n",
              "      </script>\n",
              "    </div>\n",
              "\n",
              "    </div>\n",
              "  </div>\n"
            ],
            "application/vnd.google.colaboratory.intrinsic+json": {
              "type": "dataframe",
              "variable_name": "df",
              "summary": "{\n  \"name\": \"df\",\n  \"rows\": 9551,\n  \"fields\": [\n    {\n      \"column\": \"Restaurant ID\",\n      \"properties\": {\n        \"dtype\": \"number\",\n        \"std\": 8791521,\n        \"min\": 53,\n        \"max\": 18500652,\n        \"num_unique_values\": 9551,\n        \"samples\": [\n          3500488,\n          18458347,\n          6900992\n        ],\n        \"semantic_type\": \"\",\n        \"description\": \"\"\n      }\n    },\n    {\n      \"column\": \"Restaurant Name\",\n      \"properties\": {\n        \"dtype\": \"string\",\n        \"num_unique_values\": 7445,\n        \"samples\": [\n          \"The Artful Baker\",\n          \"Anandini - The Tea Room\",\n          \"Taste of Spice\"\n        ],\n        \"semantic_type\": \"\",\n        \"description\": \"\"\n      }\n    },\n    {\n      \"column\": \"Country Code\",\n      \"properties\": {\n        \"dtype\": \"number\",\n        \"std\": 56,\n        \"min\": 1,\n        \"max\": 216,\n        \"num_unique_values\": 15,\n        \"samples\": [\n          208,\n          148,\n          94\n        ],\n        \"semantic_type\": \"\",\n        \"description\": \"\"\n      }\n    },\n    {\n      \"column\": \"City\",\n      \"properties\": {\n        \"dtype\": \"category\",\n        \"num_unique_values\": 141,\n        \"samples\": [\n          \"Bras\\u00cc_lia\",\n          \"Tanunda\",\n          \"Bhopal\"\n        ],\n        \"semantic_type\": \"\",\n        \"description\": \"\"\n      }\n    },\n    {\n      \"column\": \"Address\",\n      \"properties\": {\n        \"dtype\": \"string\",\n        \"num_unique_values\": 8918,\n        \"samples\": [\n          \"Opposite Omaxe City Center, Sohna Road, Gurgaon\",\n          \"99, Old Rajinder Nagar, Rajinder Nagar, New Delhi\",\n          \"Ko352/E15,  Village, Munirka, New Delhi\"\n        ],\n        \"semantic_type\": \"\",\n        \"description\": \"\"\n      }\n    },\n    {\n      \"column\": \"Locality\",\n      \"properties\": {\n        \"dtype\": \"category\",\n        \"num_unique_values\": 1208,\n        \"samples\": [\n          \"Holiday Inn Jaipur City Centre, Bais Godam\",\n          \"Six Mile\",\n          \"Chittaranjan Park\"\n        ],\n        \"semantic_type\": \"\",\n        \"description\": \"\"\n      }\n    },\n    {\n      \"column\": \"Locality Verbose\",\n      \"properties\": {\n        \"dtype\": \"category\",\n        \"num_unique_values\": 1265,\n        \"samples\": [\n          \"The Milk District, Orlando\",\n          \"Helen, Gainesville\",\n          \"Kapitolyo, Pasig City\"\n        ],\n        \"semantic_type\": \"\",\n        \"description\": \"\"\n      }\n    },\n    {\n      \"column\": \"Longitude\",\n      \"properties\": {\n        \"dtype\": \"number\",\n        \"std\": 41.46705784761728,\n        \"min\": -157.948486,\n        \"max\": 174.8320893,\n        \"num_unique_values\": 8120,\n        \"samples\": [\n          77.3253509,\n          77.3409734,\n          77.156659\n        ],\n        \"semantic_type\": \"\",\n        \"description\": \"\"\n      }\n    },\n    {\n      \"column\": \"Latitude\",\n      \"properties\": {\n        \"dtype\": \"number\",\n        \"std\": 11.007935124784675,\n        \"min\": -41.330428,\n        \"max\": 55.97698,\n        \"num_unique_values\": 8677,\n        \"samples\": [\n          26.89119117,\n          11.92859167,\n          28.63957434\n        ],\n        \"semantic_type\": \"\",\n        \"description\": \"\"\n      }\n    },\n    {\n      \"column\": \"Cuisines\",\n      \"properties\": {\n        \"dtype\": \"category\",\n        \"num_unique_values\": 1825,\n        \"samples\": [\n          \"Mexican, Italian, American\",\n          \"Indian, Persian\",\n          \"Continental, Asian, North Indian\"\n        ],\n        \"semantic_type\": \"\",\n        \"description\": \"\"\n      }\n    },\n    {\n      \"column\": \"Average Cost for two\",\n      \"properties\": {\n        \"dtype\": \"number\",\n        \"std\": 16121,\n        \"min\": 0,\n        \"max\": 800000,\n        \"num_unique_values\": 140,\n        \"samples\": [\n          190,\n          1050,\n          3500\n        ],\n        \"semantic_type\": \"\",\n        \"description\": \"\"\n      }\n    },\n    {\n      \"column\": \"Currency\",\n      \"properties\": {\n        \"dtype\": \"category\",\n        \"num_unique_values\": 12,\n        \"samples\": [\n          \"Pounds(\\u00e5\\u00a3)\",\n          \"Turkish Lira(TL)\",\n          \"Indonesian Rupiah(IDR)\"\n        ],\n        \"semantic_type\": \"\",\n        \"description\": \"\"\n      }\n    },\n    {\n      \"column\": \"Has Table booking\",\n      \"properties\": {\n        \"dtype\": \"category\",\n        \"num_unique_values\": 2,\n        \"samples\": [\n          \"Yes\",\n          \"No\"\n        ],\n        \"semantic_type\": \"\",\n        \"description\": \"\"\n      }\n    },\n    {\n      \"column\": \"Has Online delivery\",\n      \"properties\": {\n        \"dtype\": \"category\",\n        \"num_unique_values\": 2,\n        \"samples\": [\n          \"Yes\",\n          \"No\"\n        ],\n        \"semantic_type\": \"\",\n        \"description\": \"\"\n      }\n    },\n    {\n      \"column\": \"Price range\",\n      \"properties\": {\n        \"dtype\": \"number\",\n        \"std\": 0,\n        \"min\": 1,\n        \"max\": 4,\n        \"num_unique_values\": 4,\n        \"samples\": [\n          2,\n          1\n        ],\n        \"semantic_type\": \"\",\n        \"description\": \"\"\n      }\n    },\n    {\n      \"column\": \"Aggregate rating\",\n      \"properties\": {\n        \"dtype\": \"number\",\n        \"std\": 1.5163775396521693,\n        \"min\": 0.0,\n        \"max\": 4.9,\n        \"num_unique_values\": 33,\n        \"samples\": [\n          1.8,\n          3.3\n        ],\n        \"semantic_type\": \"\",\n        \"description\": \"\"\n      }\n    },\n    {\n      \"column\": \"Rating color\",\n      \"properties\": {\n        \"dtype\": \"category\",\n        \"num_unique_values\": 6,\n        \"samples\": [\n          \"Green\",\n          \"Dark Green\"\n        ],\n        \"semantic_type\": \"\",\n        \"description\": \"\"\n      }\n    },\n    {\n      \"column\": \"Rating text\",\n      \"properties\": {\n        \"dtype\": \"category\",\n        \"num_unique_values\": 6,\n        \"samples\": [\n          \"Very Good\",\n          \"Excellent\"\n        ],\n        \"semantic_type\": \"\",\n        \"description\": \"\"\n      }\n    },\n    {\n      \"column\": \"Votes\",\n      \"properties\": {\n        \"dtype\": \"number\",\n        \"std\": 430,\n        \"min\": 0,\n        \"max\": 10934,\n        \"num_unique_values\": 1012,\n        \"samples\": [\n          195,\n          224\n        ],\n        \"semantic_type\": \"\",\n        \"description\": \"\"\n      }\n    }\n  ]\n}"
            }
          },
          "metadata": {},
          "execution_count": 3
        }
      ]
    },
    {
      "cell_type": "markdown",
      "source": [
        "Perform preliminary data inspection and report the findings as the structure of the data, missing values, duplicates, etc."
      ],
      "metadata": {
        "id": "-pJyeCGfDwEM"
      }
    },
    {
      "cell_type": "code",
      "source": [
        "structure = df.info()"
      ],
      "metadata": {
        "colab": {
          "base_uri": "https://localhost:8080/"
        },
        "id": "CeI70ZyzDyx5",
        "outputId": "7b7d8bde-c4dc-43b2-f513-7271694245fc"
      },
      "execution_count": null,
      "outputs": [
        {
          "output_type": "stream",
          "name": "stdout",
          "text": [
            "<class 'pandas.core.frame.DataFrame'>\n",
            "RangeIndex: 9551 entries, 0 to 9550\n",
            "Data columns (total 19 columns):\n",
            " #   Column                Non-Null Count  Dtype  \n",
            "---  ------                --------------  -----  \n",
            " 0   Restaurant ID         9551 non-null   int64  \n",
            " 1   Restaurant Name       9550 non-null   object \n",
            " 2   Country Code          9551 non-null   int64  \n",
            " 3   City                  9551 non-null   object \n",
            " 4   Address               9551 non-null   object \n",
            " 5   Locality              9551 non-null   object \n",
            " 6   Locality Verbose      9551 non-null   object \n",
            " 7   Longitude             9551 non-null   float64\n",
            " 8   Latitude              9551 non-null   float64\n",
            " 9   Cuisines              9542 non-null   object \n",
            " 10  Average Cost for two  9551 non-null   int64  \n",
            " 11  Currency              9551 non-null   object \n",
            " 12  Has Table booking     9551 non-null   object \n",
            " 13  Has Online delivery   9551 non-null   object \n",
            " 14  Price range           9551 non-null   int64  \n",
            " 15  Aggregate rating      9551 non-null   float64\n",
            " 16  Rating color          9551 non-null   object \n",
            " 17  Rating text           9551 non-null   object \n",
            " 18  Votes                 9551 non-null   int64  \n",
            "dtypes: float64(3), int64(5), object(11)\n",
            "memory usage: 1.4+ MB\n"
          ]
        }
      ]
    },
    {
      "cell_type": "code",
      "source": [
        "df['Has Table booking'].head()"
      ],
      "metadata": {
        "id": "C8fxIq87EljP",
        "colab": {
          "base_uri": "https://localhost:8080/",
          "height": 241
        },
        "outputId": "8929c7df-a989-4e21-ea7e-4bbc2943d294"
      },
      "execution_count": null,
      "outputs": [
        {
          "output_type": "execute_result",
          "data": {
            "text/plain": [
              "0    No\n",
              "1    No\n",
              "2    No\n",
              "3    No\n",
              "4    No\n",
              "Name: Has Table booking, dtype: object"
            ],
            "text/html": [
              "<div>\n",
              "<style scoped>\n",
              "    .dataframe tbody tr th:only-of-type {\n",
              "        vertical-align: middle;\n",
              "    }\n",
              "\n",
              "    .dataframe tbody tr th {\n",
              "        vertical-align: top;\n",
              "    }\n",
              "\n",
              "    .dataframe thead th {\n",
              "        text-align: right;\n",
              "    }\n",
              "</style>\n",
              "<table border=\"1\" class=\"dataframe\">\n",
              "  <thead>\n",
              "    <tr style=\"text-align: right;\">\n",
              "      <th></th>\n",
              "      <th>Has Table booking</th>\n",
              "    </tr>\n",
              "  </thead>\n",
              "  <tbody>\n",
              "    <tr>\n",
              "      <th>0</th>\n",
              "      <td>No</td>\n",
              "    </tr>\n",
              "    <tr>\n",
              "      <th>1</th>\n",
              "      <td>No</td>\n",
              "    </tr>\n",
              "    <tr>\n",
              "      <th>2</th>\n",
              "      <td>No</td>\n",
              "    </tr>\n",
              "    <tr>\n",
              "      <th>3</th>\n",
              "      <td>No</td>\n",
              "    </tr>\n",
              "    <tr>\n",
              "      <th>4</th>\n",
              "      <td>No</td>\n",
              "    </tr>\n",
              "  </tbody>\n",
              "</table>\n",
              "</div><br><label><b>dtype:</b> object</label>"
            ]
          },
          "metadata": {},
          "execution_count": 5
        }
      ]
    },
    {
      "cell_type": "code",
      "source": [
        "df['Has Online delivery'].head()"
      ],
      "metadata": {
        "colab": {
          "base_uri": "https://localhost:8080/",
          "height": 241
        },
        "id": "yoQS_Fhjhvsw",
        "outputId": "6278fbbf-e471-4081-b799-40ccd7d998ff"
      },
      "execution_count": null,
      "outputs": [
        {
          "output_type": "execute_result",
          "data": {
            "text/plain": [
              "0    No\n",
              "1    No\n",
              "2    No\n",
              "3    No\n",
              "4    No\n",
              "Name: Has Online delivery, dtype: object"
            ],
            "text/html": [
              "<div>\n",
              "<style scoped>\n",
              "    .dataframe tbody tr th:only-of-type {\n",
              "        vertical-align: middle;\n",
              "    }\n",
              "\n",
              "    .dataframe tbody tr th {\n",
              "        vertical-align: top;\n",
              "    }\n",
              "\n",
              "    .dataframe thead th {\n",
              "        text-align: right;\n",
              "    }\n",
              "</style>\n",
              "<table border=\"1\" class=\"dataframe\">\n",
              "  <thead>\n",
              "    <tr style=\"text-align: right;\">\n",
              "      <th></th>\n",
              "      <th>Has Online delivery</th>\n",
              "    </tr>\n",
              "  </thead>\n",
              "  <tbody>\n",
              "    <tr>\n",
              "      <th>0</th>\n",
              "      <td>No</td>\n",
              "    </tr>\n",
              "    <tr>\n",
              "      <th>1</th>\n",
              "      <td>No</td>\n",
              "    </tr>\n",
              "    <tr>\n",
              "      <th>2</th>\n",
              "      <td>No</td>\n",
              "    </tr>\n",
              "    <tr>\n",
              "      <th>3</th>\n",
              "      <td>No</td>\n",
              "    </tr>\n",
              "    <tr>\n",
              "      <th>4</th>\n",
              "      <td>No</td>\n",
              "    </tr>\n",
              "  </tbody>\n",
              "</table>\n",
              "</div><br><label><b>dtype:</b> object</label>"
            ]
          },
          "metadata": {},
          "execution_count": 6
        }
      ]
    },
    {
      "cell_type": "code",
      "source": [
        "duplicates = df.duplicated().sum()"
      ],
      "metadata": {
        "id": "GXkcGKOlh5-D"
      },
      "execution_count": null,
      "outputs": []
    },
    {
      "cell_type": "code",
      "source": [
        "missing_values = df.isnull().sum()"
      ],
      "metadata": {
        "id": "pu74oU1Wh_ao"
      },
      "execution_count": null,
      "outputs": []
    },
    {
      "cell_type": "markdown",
      "source": [
        "# convert \" \" to \"_\" and in lower case of all column name"
      ],
      "metadata": {
        "id": "kFG1J2CajX3s"
      }
    },
    {
      "cell_type": "code",
      "source": [
        "df.columns = df.columns.str.lower().str.replace(' ', '_')"
      ],
      "metadata": {
        "id": "IWyW7gPjiPJg"
      },
      "execution_count": null,
      "outputs": []
    },
    {
      "cell_type": "code",
      "source": [
        "df.info()"
      ],
      "metadata": {
        "colab": {
          "base_uri": "https://localhost:8080/"
        },
        "id": "HbIhopswjwwp",
        "outputId": "64f73488-a68a-4808-fc4a-855a31d4a30b"
      },
      "execution_count": null,
      "outputs": [
        {
          "output_type": "stream",
          "name": "stdout",
          "text": [
            "<class 'pandas.core.frame.DataFrame'>\n",
            "RangeIndex: 9551 entries, 0 to 9550\n",
            "Data columns (total 19 columns):\n",
            " #   Column                Non-Null Count  Dtype  \n",
            "---  ------                --------------  -----  \n",
            " 0   restaurant_id         9551 non-null   int64  \n",
            " 1   restaurant_name       9550 non-null   object \n",
            " 2   country_code          9551 non-null   int64  \n",
            " 3   city                  9551 non-null   object \n",
            " 4   address               9551 non-null   object \n",
            " 5   locality              9551 non-null   object \n",
            " 6   locality_verbose      9551 non-null   object \n",
            " 7   longitude             9551 non-null   float64\n",
            " 8   latitude              9551 non-null   float64\n",
            " 9   cuisines              9542 non-null   object \n",
            " 10  average_cost_for_two  9551 non-null   int64  \n",
            " 11  currency              9551 non-null   object \n",
            " 12  has_table_booking     9551 non-null   object \n",
            " 13  has_online_delivery   9551 non-null   object \n",
            " 14  price_range           9551 non-null   int64  \n",
            " 15  aggregate_rating      9551 non-null   float64\n",
            " 16  rating_color          9551 non-null   object \n",
            " 17  rating_text           9551 non-null   object \n",
            " 18  votes                 9551 non-null   int64  \n",
            "dtypes: float64(3), int64(5), object(11)\n",
            "memory usage: 1.4+ MB\n"
          ]
        }
      ]
    },
    {
      "cell_type": "markdown",
      "source": [
        "2. Based on the findings from the previous questions, identify duplicates and remove them\n"
      ],
      "metadata": {
        "id": "LIGiPwx3kBdg"
      }
    },
    {
      "cell_type": "code",
      "source": [
        "df_cleaned = df.dropna(subset= ['restaurant_name'])"
      ],
      "metadata": {
        "id": "CPDU-gnPj1mJ"
      },
      "execution_count": null,
      "outputs": []
    },
    {
      "cell_type": "code",
      "source": [
        "# Summary after cleaning\n",
        "\n",
        "summary_after_cleaning = {\n",
        "    'missing_values_after_cleaning': df_cleaned.isnull().sum(),\n",
        "    'duplicates_after_cleaning': df_cleaned.duplicated().sum(),\n",
        "    'structure_after_cleaning': df_cleaned.info(),\n",
        "    'unique_has_table_booking': df_cleaned['has_table_booking'].unique(),\n",
        "    'unique_has_online_delivery': df_cleaned['has_online_delivery'].unique()\n",
        "}\n",
        "print(structure)\n",
        "print('missing_values_before_cleaning:', missing_values)\n",
        "print('duplicates_before_cleaning:',duplicates)\n",
        "print('variable_names_after_cleaining:', df_cleaned.columns)\n",
        "print('summary_after_cleaining:', summary_after_cleaning)"
      ],
      "metadata": {
        "colab": {
          "base_uri": "https://localhost:8080/"
        },
        "id": "12nyqDg2pEbf",
        "outputId": "5dda90b9-73ca-47ed-b71a-a11644c85d42"
      },
      "execution_count": null,
      "outputs": [
        {
          "output_type": "stream",
          "name": "stdout",
          "text": [
            "<class 'pandas.core.frame.DataFrame'>\n",
            "Index: 9550 entries, 0 to 9550\n",
            "Data columns (total 19 columns):\n",
            " #   Column                Non-Null Count  Dtype  \n",
            "---  ------                --------------  -----  \n",
            " 0   restaurant_id         9550 non-null   int64  \n",
            " 1   restaurant_name       9550 non-null   object \n",
            " 2   country_code          9550 non-null   int64  \n",
            " 3   city                  9550 non-null   object \n",
            " 4   address               9550 non-null   object \n",
            " 5   locality              9550 non-null   object \n",
            " 6   locality_verbose      9550 non-null   object \n",
            " 7   longitude             9550 non-null   float64\n",
            " 8   latitude              9550 non-null   float64\n",
            " 9   cuisines              9541 non-null   object \n",
            " 10  average_cost_for_two  9550 non-null   int64  \n",
            " 11  currency              9550 non-null   object \n",
            " 12  has_table_booking     9550 non-null   object \n",
            " 13  has_online_delivery   9550 non-null   object \n",
            " 14  price_range           9550 non-null   int64  \n",
            " 15  aggregate_rating      9550 non-null   float64\n",
            " 16  rating_color          9550 non-null   object \n",
            " 17  rating_text           9550 non-null   object \n",
            " 18  votes                 9550 non-null   int64  \n",
            "dtypes: float64(3), int64(5), object(11)\n",
            "memory usage: 1.5+ MB\n",
            "None\n",
            "missing_values_before_cleaning: Restaurant ID           0\n",
            "Restaurant Name         1\n",
            "Country Code            0\n",
            "City                    0\n",
            "Address                 0\n",
            "Locality                0\n",
            "Locality Verbose        0\n",
            "Longitude               0\n",
            "Latitude                0\n",
            "Cuisines                9\n",
            "Average Cost for two    0\n",
            "Currency                0\n",
            "Has Table booking       0\n",
            "Has Online delivery     0\n",
            "Price range             0\n",
            "Aggregate rating        0\n",
            "Rating color            0\n",
            "Rating text             0\n",
            "Votes                   0\n",
            "dtype: int64\n",
            "duplicates_before_cleaning: 0\n",
            "variable_names_after_cleaining: Index(['restaurant_id', 'restaurant_name', 'country_code', 'city', 'address',\n",
            "       'locality', 'locality_verbose', 'longitude', 'latitude', 'cuisines',\n",
            "       'average_cost_for_two', 'currency', 'has_table_booking',\n",
            "       'has_online_delivery', 'price_range', 'aggregate_rating',\n",
            "       'rating_color', 'rating_text', 'votes'],\n",
            "      dtype='object')\n",
            "summary_after_cleaining: {'missing_values_after_cleaning': restaurant_id           0\n",
            "restaurant_name         0\n",
            "country_code            0\n",
            "city                    0\n",
            "address                 0\n",
            "locality                0\n",
            "locality_verbose        0\n",
            "longitude               0\n",
            "latitude                0\n",
            "cuisines                9\n",
            "average_cost_for_two    0\n",
            "currency                0\n",
            "has_table_booking       0\n",
            "has_online_delivery     0\n",
            "price_range             0\n",
            "aggregate_rating        0\n",
            "rating_color            0\n",
            "rating_text             0\n",
            "votes                   0\n",
            "dtype: int64, 'duplicates_after_cleaning': np.int64(0), 'structure_after_cleaning': None, 'unique_has_table_booking': array(['No', 'Yes'], dtype=object), 'unique_has_online_delivery': array(['No', 'Yes'], dtype=object)}\n"
          ]
        }
      ]
    },
    {
      "cell_type": "code",
      "source": [
        "df_country =pd.read_excel('/content/drive/MyDrive/Data Analysis Project - 1/Country-Code.xlsx')"
      ],
      "metadata": {
        "id": "3Sz_xqWosdyz"
      },
      "execution_count": null,
      "outputs": []
    },
    {
      "cell_type": "code",
      "source": [
        "df_country.head()"
      ],
      "metadata": {
        "colab": {
          "base_uri": "https://localhost:8080/",
          "height": 206
        },
        "id": "VNpsVWrKtHqa",
        "outputId": "519cb2ee-e82c-45dc-8cb2-520aae7aa92a"
      },
      "execution_count": null,
      "outputs": [
        {
          "output_type": "execute_result",
          "data": {
            "text/plain": [
              "   Country Code    Country\n",
              "0             1      India\n",
              "1            14  Australia\n",
              "2            30     Brazil\n",
              "3            37     Canada\n",
              "4            94  Indonesia"
            ],
            "text/html": [
              "\n",
              "  <div id=\"df-e19aef08-1143-460d-acfc-14ecefc9d2bf\" class=\"colab-df-container\">\n",
              "    <div>\n",
              "<style scoped>\n",
              "    .dataframe tbody tr th:only-of-type {\n",
              "        vertical-align: middle;\n",
              "    }\n",
              "\n",
              "    .dataframe tbody tr th {\n",
              "        vertical-align: top;\n",
              "    }\n",
              "\n",
              "    .dataframe thead th {\n",
              "        text-align: right;\n",
              "    }\n",
              "</style>\n",
              "<table border=\"1\" class=\"dataframe\">\n",
              "  <thead>\n",
              "    <tr style=\"text-align: right;\">\n",
              "      <th></th>\n",
              "      <th>Country Code</th>\n",
              "      <th>Country</th>\n",
              "    </tr>\n",
              "  </thead>\n",
              "  <tbody>\n",
              "    <tr>\n",
              "      <th>0</th>\n",
              "      <td>1</td>\n",
              "      <td>India</td>\n",
              "    </tr>\n",
              "    <tr>\n",
              "      <th>1</th>\n",
              "      <td>14</td>\n",
              "      <td>Australia</td>\n",
              "    </tr>\n",
              "    <tr>\n",
              "      <th>2</th>\n",
              "      <td>30</td>\n",
              "      <td>Brazil</td>\n",
              "    </tr>\n",
              "    <tr>\n",
              "      <th>3</th>\n",
              "      <td>37</td>\n",
              "      <td>Canada</td>\n",
              "    </tr>\n",
              "    <tr>\n",
              "      <th>4</th>\n",
              "      <td>94</td>\n",
              "      <td>Indonesia</td>\n",
              "    </tr>\n",
              "  </tbody>\n",
              "</table>\n",
              "</div>\n",
              "    <div class=\"colab-df-buttons\">\n",
              "\n",
              "  <div class=\"colab-df-container\">\n",
              "    <button class=\"colab-df-convert\" onclick=\"convertToInteractive('df-e19aef08-1143-460d-acfc-14ecefc9d2bf')\"\n",
              "            title=\"Convert this dataframe to an interactive table.\"\n",
              "            style=\"display:none;\">\n",
              "\n",
              "  <svg xmlns=\"http://www.w3.org/2000/svg\" height=\"24px\" viewBox=\"0 -960 960 960\">\n",
              "    <path d=\"M120-120v-720h720v720H120Zm60-500h600v-160H180v160Zm220 220h160v-160H400v160Zm0 220h160v-160H400v160ZM180-400h160v-160H180v160Zm440 0h160v-160H620v160ZM180-180h160v-160H180v160Zm440 0h160v-160H620v160Z\"/>\n",
              "  </svg>\n",
              "    </button>\n",
              "\n",
              "  <style>\n",
              "    .colab-df-container {\n",
              "      display:flex;\n",
              "      gap: 12px;\n",
              "    }\n",
              "\n",
              "    .colab-df-convert {\n",
              "      background-color: #E8F0FE;\n",
              "      border: none;\n",
              "      border-radius: 50%;\n",
              "      cursor: pointer;\n",
              "      display: none;\n",
              "      fill: #1967D2;\n",
              "      height: 32px;\n",
              "      padding: 0 0 0 0;\n",
              "      width: 32px;\n",
              "    }\n",
              "\n",
              "    .colab-df-convert:hover {\n",
              "      background-color: #E2EBFA;\n",
              "      box-shadow: 0px 1px 2px rgba(60, 64, 67, 0.3), 0px 1px 3px 1px rgba(60, 64, 67, 0.15);\n",
              "      fill: #174EA6;\n",
              "    }\n",
              "\n",
              "    .colab-df-buttons div {\n",
              "      margin-bottom: 4px;\n",
              "    }\n",
              "\n",
              "    [theme=dark] .colab-df-convert {\n",
              "      background-color: #3B4455;\n",
              "      fill: #D2E3FC;\n",
              "    }\n",
              "\n",
              "    [theme=dark] .colab-df-convert:hover {\n",
              "      background-color: #434B5C;\n",
              "      box-shadow: 0px 1px 3px 1px rgba(0, 0, 0, 0.15);\n",
              "      filter: drop-shadow(0px 1px 2px rgba(0, 0, 0, 0.3));\n",
              "      fill: #FFFFFF;\n",
              "    }\n",
              "  </style>\n",
              "\n",
              "    <script>\n",
              "      const buttonEl =\n",
              "        document.querySelector('#df-e19aef08-1143-460d-acfc-14ecefc9d2bf button.colab-df-convert');\n",
              "      buttonEl.style.display =\n",
              "        google.colab.kernel.accessAllowed ? 'block' : 'none';\n",
              "\n",
              "      async function convertToInteractive(key) {\n",
              "        const element = document.querySelector('#df-e19aef08-1143-460d-acfc-14ecefc9d2bf');\n",
              "        const dataTable =\n",
              "          await google.colab.kernel.invokeFunction('convertToInteractive',\n",
              "                                                    [key], {});\n",
              "        if (!dataTable) return;\n",
              "\n",
              "        const docLinkHtml = 'Like what you see? Visit the ' +\n",
              "          '<a target=\"_blank\" href=https://colab.research.google.com/notebooks/data_table.ipynb>data table notebook</a>'\n",
              "          + ' to learn more about interactive tables.';\n",
              "        element.innerHTML = '';\n",
              "        dataTable['output_type'] = 'display_data';\n",
              "        await google.colab.output.renderOutput(dataTable, element);\n",
              "        const docLink = document.createElement('div');\n",
              "        docLink.innerHTML = docLinkHtml;\n",
              "        element.appendChild(docLink);\n",
              "      }\n",
              "    </script>\n",
              "  </div>\n",
              "\n",
              "\n",
              "    <div id=\"df-aa46170e-3d45-425c-82d2-f0c6f0b1af4d\">\n",
              "      <button class=\"colab-df-quickchart\" onclick=\"quickchart('df-aa46170e-3d45-425c-82d2-f0c6f0b1af4d')\"\n",
              "                title=\"Suggest charts\"\n",
              "                style=\"display:none;\">\n",
              "\n",
              "<svg xmlns=\"http://www.w3.org/2000/svg\" height=\"24px\"viewBox=\"0 0 24 24\"\n",
              "     width=\"24px\">\n",
              "    <g>\n",
              "        <path d=\"M19 3H5c-1.1 0-2 .9-2 2v14c0 1.1.9 2 2 2h14c1.1 0 2-.9 2-2V5c0-1.1-.9-2-2-2zM9 17H7v-7h2v7zm4 0h-2V7h2v10zm4 0h-2v-4h2v4z\"/>\n",
              "    </g>\n",
              "</svg>\n",
              "      </button>\n",
              "\n",
              "<style>\n",
              "  .colab-df-quickchart {\n",
              "      --bg-color: #E8F0FE;\n",
              "      --fill-color: #1967D2;\n",
              "      --hover-bg-color: #E2EBFA;\n",
              "      --hover-fill-color: #174EA6;\n",
              "      --disabled-fill-color: #AAA;\n",
              "      --disabled-bg-color: #DDD;\n",
              "  }\n",
              "\n",
              "  [theme=dark] .colab-df-quickchart {\n",
              "      --bg-color: #3B4455;\n",
              "      --fill-color: #D2E3FC;\n",
              "      --hover-bg-color: #434B5C;\n",
              "      --hover-fill-color: #FFFFFF;\n",
              "      --disabled-bg-color: #3B4455;\n",
              "      --disabled-fill-color: #666;\n",
              "  }\n",
              "\n",
              "  .colab-df-quickchart {\n",
              "    background-color: var(--bg-color);\n",
              "    border: none;\n",
              "    border-radius: 50%;\n",
              "    cursor: pointer;\n",
              "    display: none;\n",
              "    fill: var(--fill-color);\n",
              "    height: 32px;\n",
              "    padding: 0;\n",
              "    width: 32px;\n",
              "  }\n",
              "\n",
              "  .colab-df-quickchart:hover {\n",
              "    background-color: var(--hover-bg-color);\n",
              "    box-shadow: 0 1px 2px rgba(60, 64, 67, 0.3), 0 1px 3px 1px rgba(60, 64, 67, 0.15);\n",
              "    fill: var(--button-hover-fill-color);\n",
              "  }\n",
              "\n",
              "  .colab-df-quickchart-complete:disabled,\n",
              "  .colab-df-quickchart-complete:disabled:hover {\n",
              "    background-color: var(--disabled-bg-color);\n",
              "    fill: var(--disabled-fill-color);\n",
              "    box-shadow: none;\n",
              "  }\n",
              "\n",
              "  .colab-df-spinner {\n",
              "    border: 2px solid var(--fill-color);\n",
              "    border-color: transparent;\n",
              "    border-bottom-color: var(--fill-color);\n",
              "    animation:\n",
              "      spin 1s steps(1) infinite;\n",
              "  }\n",
              "\n",
              "  @keyframes spin {\n",
              "    0% {\n",
              "      border-color: transparent;\n",
              "      border-bottom-color: var(--fill-color);\n",
              "      border-left-color: var(--fill-color);\n",
              "    }\n",
              "    20% {\n",
              "      border-color: transparent;\n",
              "      border-left-color: var(--fill-color);\n",
              "      border-top-color: var(--fill-color);\n",
              "    }\n",
              "    30% {\n",
              "      border-color: transparent;\n",
              "      border-left-color: var(--fill-color);\n",
              "      border-top-color: var(--fill-color);\n",
              "      border-right-color: var(--fill-color);\n",
              "    }\n",
              "    40% {\n",
              "      border-color: transparent;\n",
              "      border-right-color: var(--fill-color);\n",
              "      border-top-color: var(--fill-color);\n",
              "    }\n",
              "    60% {\n",
              "      border-color: transparent;\n",
              "      border-right-color: var(--fill-color);\n",
              "    }\n",
              "    80% {\n",
              "      border-color: transparent;\n",
              "      border-right-color: var(--fill-color);\n",
              "      border-bottom-color: var(--fill-color);\n",
              "    }\n",
              "    90% {\n",
              "      border-color: transparent;\n",
              "      border-bottom-color: var(--fill-color);\n",
              "    }\n",
              "  }\n",
              "</style>\n",
              "\n",
              "      <script>\n",
              "        async function quickchart(key) {\n",
              "          const quickchartButtonEl =\n",
              "            document.querySelector('#' + key + ' button');\n",
              "          quickchartButtonEl.disabled = true;  // To prevent multiple clicks.\n",
              "          quickchartButtonEl.classList.add('colab-df-spinner');\n",
              "          try {\n",
              "            const charts = await google.colab.kernel.invokeFunction(\n",
              "                'suggestCharts', [key], {});\n",
              "          } catch (error) {\n",
              "            console.error('Error during call to suggestCharts:', error);\n",
              "          }\n",
              "          quickchartButtonEl.classList.remove('colab-df-spinner');\n",
              "          quickchartButtonEl.classList.add('colab-df-quickchart-complete');\n",
              "        }\n",
              "        (() => {\n",
              "          let quickchartButtonEl =\n",
              "            document.querySelector('#df-aa46170e-3d45-425c-82d2-f0c6f0b1af4d button');\n",
              "          quickchartButtonEl.style.display =\n",
              "            google.colab.kernel.accessAllowed ? 'block' : 'none';\n",
              "        })();\n",
              "      </script>\n",
              "    </div>\n",
              "\n",
              "    </div>\n",
              "  </div>\n"
            ],
            "application/vnd.google.colaboratory.intrinsic+json": {
              "type": "dataframe",
              "variable_name": "df_country",
              "summary": "{\n  \"name\": \"df_country\",\n  \"rows\": 15,\n  \"fields\": [\n    {\n      \"column\": \"Country Code\",\n      \"properties\": {\n        \"dtype\": \"number\",\n        \"std\": 80,\n        \"min\": 1,\n        \"max\": 216,\n        \"num_unique_values\": 15,\n        \"samples\": [\n          189,\n          208,\n          1\n        ],\n        \"semantic_type\": \"\",\n        \"description\": \"\"\n      }\n    },\n    {\n      \"column\": \"Country\",\n      \"properties\": {\n        \"dtype\": \"string\",\n        \"num_unique_values\": 15,\n        \"samples\": [\n          \"South Africa\",\n          \"Turkey\",\n          \"India\"\n        ],\n        \"semantic_type\": \"\",\n        \"description\": \"\"\n      }\n    }\n  ]\n}"
            }
          },
          "metadata": {},
          "execution_count": 14
        }
      ]
    },
    {
      "cell_type": "code",
      "source": [
        "df_country.info()"
      ],
      "metadata": {
        "colab": {
          "base_uri": "https://localhost:8080/"
        },
        "id": "34pyE7n6tJx5",
        "outputId": "e6650fbb-2a9d-4356-83c5-25b054a957bd"
      },
      "execution_count": null,
      "outputs": [
        {
          "output_type": "stream",
          "name": "stdout",
          "text": [
            "<class 'pandas.core.frame.DataFrame'>\n",
            "RangeIndex: 15 entries, 0 to 14\n",
            "Data columns (total 2 columns):\n",
            " #   Column        Non-Null Count  Dtype \n",
            "---  ------        --------------  ----- \n",
            " 0   Country Code  15 non-null     int64 \n",
            " 1   Country       15 non-null     object\n",
            "dtypes: int64(1), object(1)\n",
            "memory usage: 372.0+ bytes\n"
          ]
        }
      ]
    },
    {
      "cell_type": "code",
      "source": [
        "df_country.duplicated().sum()"
      ],
      "metadata": {
        "colab": {
          "base_uri": "https://localhost:8080/"
        },
        "id": "7z8ywdAAtNup",
        "outputId": "48ff4118-0460-4fcb-a15f-2f13068d6fdf"
      },
      "execution_count": null,
      "outputs": [
        {
          "output_type": "execute_result",
          "data": {
            "text/plain": [
              "np.int64(0)"
            ]
          },
          "metadata": {},
          "execution_count": 16
        }
      ]
    },
    {
      "cell_type": "markdown",
      "source": [
        "**Performing EDA**\n",
        "\n",
        "1-Explore the geographical distribution of the restaurants and identify the cities with the maximum and minimum number of restaurants\n"
      ],
      "metadata": {
        "id": "dWM-L734vINb"
      }
    },
    {
      "cell_type": "code",
      "source": [
        "city_counts = df['city'].value_counts()\n",
        "city_counts.head()"
      ],
      "metadata": {
        "id": "CQLNc0rxthjC",
        "colab": {
          "base_uri": "https://localhost:8080/",
          "height": 272
        },
        "outputId": "1e9cc8f0-444c-4939-ae04-c67e926f2ab9"
      },
      "execution_count": null,
      "outputs": [
        {
          "output_type": "execute_result",
          "data": {
            "text/plain": [
              "city\n",
              "New Delhi    5473\n",
              "Gurgaon      1118\n",
              "Noida        1080\n",
              "Faridabad     251\n",
              "Ghaziabad      25\n",
              "Name: count, dtype: int64"
            ],
            "text/html": [
              "<div>\n",
              "<style scoped>\n",
              "    .dataframe tbody tr th:only-of-type {\n",
              "        vertical-align: middle;\n",
              "    }\n",
              "\n",
              "    .dataframe tbody tr th {\n",
              "        vertical-align: top;\n",
              "    }\n",
              "\n",
              "    .dataframe thead th {\n",
              "        text-align: right;\n",
              "    }\n",
              "</style>\n",
              "<table border=\"1\" class=\"dataframe\">\n",
              "  <thead>\n",
              "    <tr style=\"text-align: right;\">\n",
              "      <th></th>\n",
              "      <th>count</th>\n",
              "    </tr>\n",
              "    <tr>\n",
              "      <th>city</th>\n",
              "      <th></th>\n",
              "    </tr>\n",
              "  </thead>\n",
              "  <tbody>\n",
              "    <tr>\n",
              "      <th>New Delhi</th>\n",
              "      <td>5473</td>\n",
              "    </tr>\n",
              "    <tr>\n",
              "      <th>Gurgaon</th>\n",
              "      <td>1118</td>\n",
              "    </tr>\n",
              "    <tr>\n",
              "      <th>Noida</th>\n",
              "      <td>1080</td>\n",
              "    </tr>\n",
              "    <tr>\n",
              "      <th>Faridabad</th>\n",
              "      <td>251</td>\n",
              "    </tr>\n",
              "    <tr>\n",
              "      <th>Ghaziabad</th>\n",
              "      <td>25</td>\n",
              "    </tr>\n",
              "  </tbody>\n",
              "</table>\n",
              "</div><br><label><b>dtype:</b> int64</label>"
            ]
          },
          "metadata": {},
          "execution_count": 17
        }
      ]
    },
    {
      "cell_type": "code",
      "source": [
        "max_restaurants_city = city_counts.idxmax()\n",
        "max_restaurants_counts = city_counts.max()\n",
        "min_restaurants_city = city_counts.idxmin()\n",
        "min_restaurants_counts = city_counts.min()\n",
        "\n",
        "print(f\"The city with the maximum number of restaurants is: {max_restaurants_city} ({max_restaurants_counts} restaurants)\")\n",
        "print(f'The city with the minimum number of restaurants is: {min_restaurants_city}({min_restaurants_counts} restaurants)')"
      ],
      "metadata": {
        "colab": {
          "base_uri": "https://localhost:8080/"
        },
        "id": "vFKh1YSXtRg1",
        "outputId": "d04cfec2-c9a1-48bb-d37c-5437d41bd3ec"
      },
      "execution_count": null,
      "outputs": [
        {
          "output_type": "stream",
          "name": "stdout",
          "text": [
            "The city with the maximum number of restaurants is: New Delhi (5473 restaurants)\n",
            "The city with the minimum number of restaurants is: Bandung(1 restaurants)\n"
          ]
        }
      ]
    },
    {
      "cell_type": "markdown",
      "source": [
        "2- Restaurant franchising is a thriving venture. So, it is very important to explore the franchise with most national presence\n"
      ],
      "metadata": {
        "id": "n2R74RRCyfxq"
      }
    },
    {
      "cell_type": "code",
      "source": [
        "# Count the number of cities in which our restaurants presence.\n",
        "franchise_presence = df_cleaned.groupby('restaurant_name')['city'].nunique().sort_values(ascending=False)\n",
        "\n",
        "# Count the restaurants with most national presence.\n",
        "top_franchise = franchise_presence.idxmax()\n",
        "top_franchise_count = franchise_presence.max()\n",
        "\n",
        "print(f\"The restaurant with the most national presence is: {top_franchise} (present in {top_franchise_count} cities)\")"
      ],
      "metadata": {
        "id": "6yj2bgIauZII",
        "colab": {
          "base_uri": "https://localhost:8080/"
        },
        "outputId": "7d092057-223b-48ec-f5aa-9e82ef513c37"
      },
      "execution_count": null,
      "outputs": [
        {
          "output_type": "stream",
          "name": "stdout",
          "text": [
            "The restaurant with the most national presence is: Barbeque Nation (present in 22 cities)\n"
          ]
        }
      ]
    },
    {
      "cell_type": "markdown",
      "source": [
        "3- Find out the ratio between restaurants that allow table booking vs. those that do not allow table booking\n"
      ],
      "metadata": {
        "id": "cUABrLEa-a4w"
      }
    },
    {
      "cell_type": "code",
      "source": [
        "# Convert upper case into lower case\n",
        "df_cleaned['has_table_booking']= df_cleaned['has_table_booking'].str.strip().str.lower()\n",
        "# Number of table booking 'Yes' and 'No'\n",
        "table_booking= df_cleaned['has_table_booking'].value_counts()\n",
        "# Cities that allow table booking.\n",
        "table_booking_count_yes = table_booking.get('yes',0)\n",
        "\n",
        "# cities that don't allow table booking.\n",
        "table_booking_count_no = table_booking.get('no',0)\n",
        "\n",
        "table_booking_ratio = (table_booking_count_yes / table_booking_count_no )*100\n",
        "print(f\"The ratio between restaurants that allow table booking vs. those that do not allow table booking is: {table_booking_ratio:.2f}%\")"
      ],
      "metadata": {
        "colab": {
          "base_uri": "https://localhost:8080/"
        },
        "id": "OQybDBpq4ua-",
        "outputId": "794ac7c1-c7e1-4aec-cdb6-e94aed6744c2"
      },
      "execution_count": null,
      "outputs": [
        {
          "output_type": "stream",
          "name": "stdout",
          "text": [
            "The ratio between restaurants that allow table booking vs. those that do not allow table booking is: 13.80%\n"
          ]
        }
      ]
    },
    {
      "cell_type": "markdown",
      "source": [
        "4- Find out the percentage of restaurants providing online delivery\n"
      ],
      "metadata": {
        "id": "EFKr_8ZtT8r3"
      }
    },
    {
      "cell_type": "code",
      "source": [
        "df_cleaned['has_online_delivery']=df_cleaned['has_online_delivery'].str.strip().str.lower()\n",
        "# Number of 'has online delivery'\n",
        "delivery_count = df_cleaned['has_online_delivery'].value_counts()\n",
        "# Number of 'has online delivery' - Yes\n",
        "online_delivery_yes = delivery_count.get('yes',0)\n",
        "# Number of 'has online delivery' - No\n",
        "online_delivery_no = delivery_count.get('no',0)\n",
        "\n",
        "# % of online delivery 'Yes'\n",
        "percent_online_delivery_yes = (online_delivery_yes / (online_delivery_yes + online_delivery_no))*100\n",
        "print(f\"The percentage of restaurants providing online delivery is: {percent_online_delivery_yes:.2f}%\")"
      ],
      "metadata": {
        "colab": {
          "base_uri": "https://localhost:8080/"
        },
        "id": "b2-jia2S454K",
        "outputId": "b0092d9d-ba8b-4414-9e74-597d5f445566"
      },
      "execution_count": null,
      "outputs": [
        {
          "output_type": "stream",
          "name": "stdout",
          "text": [
            "The percentage of restaurants providing online delivery is: 25.66%\n"
          ]
        }
      ]
    },
    {
      "cell_type": "markdown",
      "source": [
        "5- Calculate the difference in number of votes for the restaurants that deliver and the restaurants that do not deliver\n"
      ],
      "metadata": {
        "id": "xYuc-N7Hc6uE"
      }
    },
    {
      "cell_type": "code",
      "source": [
        "online_delivery_votes_yes= df_cleaned[df_cleaned['has_online_delivery'] =='yes']['votes']\n",
        "online_delivery_votes_no= df_cleaned[df_cleaned['has_online_delivery'] =='no']['votes']\n",
        "\n",
        "average_votes_yes = online_delivery_votes_yes.mean()\n",
        "average_votes_no = online_delivery_votes_no.mean()\n",
        "\n",
        "print(f\"The number of votes for the restaurants that deliver is: {average_votes_yes: 2f}\")\n",
        "print(f\"The number of votes for the restaurants that do not deliver is: {average_votes_no: 2f}\")\n",
        "\n",
        "delivery_votes_difference = average_votes_yes - average_votes_no\n",
        "print(f\"The difference in number of votes for the restaurants that deliver and the restaurants that do not deliver is: {delivery_votes_difference: 2f}\")\n"
      ],
      "metadata": {
        "colab": {
          "base_uri": "https://localhost:8080/"
        },
        "id": "VXk2maruCvww",
        "outputId": "dd82f12f-7205-457e-aae2-16a93ffd0ac2"
      },
      "execution_count": null,
      "outputs": [
        {
          "output_type": "stream",
          "name": "stdout",
          "text": [
            "The number of votes for the restaurants that deliver is:  211.307222\n",
            "The number of votes for the restaurants that do not deliver is:  138.042259\n",
            "The difference in number of votes for the restaurants that deliver and the restaurants that do not deliver is:  73.264962\n"
          ]
        }
      ]
    },
    {
      "cell_type": "code",
      "source": [
        "df_cleaned.columns"
      ],
      "metadata": {
        "colab": {
          "base_uri": "https://localhost:8080/"
        },
        "id": "MaNO_yh2gP4_",
        "outputId": "6a256385-37f6-4e59-9019-414560e2a09b"
      },
      "execution_count": null,
      "outputs": [
        {
          "output_type": "execute_result",
          "data": {
            "text/plain": [
              "Index(['restaurant_id', 'restaurant_name', 'country_code', 'city', 'address',\n",
              "       'locality', 'locality_verbose', 'longitude', 'latitude', 'cuisines',\n",
              "       'average_cost_for_two', 'currency', 'has_table_booking',\n",
              "       'has_online_delivery', 'price_range', 'aggregate_rating',\n",
              "       'rating_color', 'rating_text', 'votes'],\n",
              "      dtype='object')"
            ]
          },
          "metadata": {},
          "execution_count": 23
        }
      ]
    },
    {
      "cell_type": "markdown",
      "source": [
        "# **Week 3**\n",
        "\n",
        "1- What are the top 10 cuisines served across cities?\n"
      ],
      "metadata": {
        "id": "tSBmnUEBoEzJ"
      }
    },
    {
      "cell_type": "code",
      "source": [
        "# Split by ',' and place into columns for each item and remove whitespace\n",
        "cuisines_series = df['cuisines'].str.split(',').explode().str.strip()\n",
        "\n",
        "# Count the occurance of each cuisines.\n",
        "top_10_cuisines = cuisines_series.value_counts().head(10)\n",
        "\n",
        "print(f'top 10 cuisiness:{top_10_cuisines}')"
      ],
      "metadata": {
        "colab": {
          "base_uri": "https://localhost:8080/"
        },
        "id": "9IqyWFOmgSee",
        "outputId": "899ca0ba-17ff-418e-9e7a-7cc596097af1"
      },
      "execution_count": null,
      "outputs": [
        {
          "output_type": "stream",
          "name": "stdout",
          "text": [
            "top 10 cuisiness:cuisines\n",
            "North Indian    3960\n",
            "Chinese         2735\n",
            "Fast Food       1986\n",
            "Mughlai          995\n",
            "Italian          764\n",
            "Bakery           745\n",
            "Continental      736\n",
            "Cafe             703\n",
            "Desserts         653\n",
            "South Indian     636\n",
            "Name: count, dtype: int64\n"
          ]
        }
      ]
    },
    {
      "cell_type": "markdown",
      "source": [
        "2- What is the maximum and minimum number of cuisines that a restaurant serves? Also, which is the most served cuisine across the restaurant for each city?\n"
      ],
      "metadata": {
        "id": "3NupEz79uQdj"
      }
    },
    {
      "cell_type": "code",
      "source": [
        "# Count number of cuisines per restaurant.\n",
        "df['count_cuisines'] = df['cuisines'].fillna('').str.split(',').apply(len)\n",
        "max_cuisines = df['count_cuisines'].max()\n",
        "min_cuisines = df['count_cuisines'].min()\n",
        "print(f\"The maximum number of cuisines that a restaurant serves is: {max_cuisines}\")\n",
        "print(f\"The minimum number of cuisines that a restaurant serves is: {min_cuisines}\")\n",
        "\n"
      ],
      "metadata": {
        "colab": {
          "base_uri": "https://localhost:8080/"
        },
        "id": "u_cnrIvust2H",
        "outputId": "c82b12be-3363-48e9-8779-df9a98b6f456"
      },
      "execution_count": null,
      "outputs": [
        {
          "output_type": "stream",
          "name": "stdout",
          "text": [
            "The maximum number of cuisines that a restaurant serves is: 8\n",
            "The minimum number of cuisines that a restaurant serves is: 1\n"
          ]
        }
      ]
    },
    {
      "cell_type": "code",
      "source": [
        "# Step 1: Copy original DataFrame\n",
        "df1 = df.copy()\n",
        "\n",
        "# Step 2: Handle missing values before splitting\n",
        "df1['cuisines'] = df1['cuisines'].fillna('')\n",
        "\n",
        "# Step 3: Split, explode, strip and create a new DataFrame\n",
        "df1_exploded = df1.assign(cuisines=df1['cuisines'].str.split(',')).explode('cuisines')\n",
        "df1_exploded['cuisines'] = df1_exploded['cuisines'].str.strip()\n",
        "\n",
        "# Step 4: Remove empty cuisine values (optional but safe)\n",
        "df1_exploded = df1_exploded[df1_exploded['cuisines'] != '']\n",
        "\n",
        "# Step 5: Group by city and cuisines\n",
        "cuisines_counts = df1_exploded.groupby(['city', 'cuisines']).size().reset_index(name='count')\n",
        "\n",
        "# Step 6: Get the most served cuisine per city\n",
        "most_served_cuisines_city = cuisines_counts.loc[cuisines_counts.groupby('city')['count'].idxmax()]\n",
        "\n",
        "# Step 7: Display\n",
        "print(most_served_cuisines_city)\n"
      ],
      "metadata": {
        "colab": {
          "base_uri": "https://localhost:8080/"
        },
        "id": "gJH_DtnWumPZ",
        "outputId": "883c6471-d00d-4cce-8a5e-1c7351d4ee69"
      },
      "execution_count": null,
      "outputs": [
        {
          "output_type": "stream",
          "name": "stdout",
          "text": [
            "                 city      cuisines  count\n",
            "11          Abu Dhabi        Indian      7\n",
            "37               Agra  North Indian     15\n",
            "48          Ahmedabad   Continental     12\n",
            "62             Albany      American      4\n",
            "91          Allahabad  North Indian     12\n",
            "...               ...           ...    ...\n",
            "1815          Weirton        Burger      1\n",
            "1820  Wellington City          Cafe      9\n",
            "1835   Winchester Bay        Burger      1\n",
            "1838          Yorkton         Asian      1\n",
            "1842        €¡stanbul          Cafe      4\n",
            "\n",
            "[140 rows x 3 columns]\n"
          ]
        }
      ]
    },
    {
      "cell_type": "markdown",
      "source": [
        "3- What is the distribution cost across the restaurants?\n"
      ],
      "metadata": {
        "id": "wbShNJl_-ncB"
      }
    },
    {
      "cell_type": "code",
      "source": [
        "df_cleaned.columns"
      ],
      "metadata": {
        "colab": {
          "base_uri": "https://localhost:8080/"
        },
        "id": "nnTAziuD7WUR",
        "outputId": "d9e26637-4471-44dc-ef3b-5b3d25f7ca92"
      },
      "execution_count": null,
      "outputs": [
        {
          "output_type": "execute_result",
          "data": {
            "text/plain": [
              "Index(['restaurant_id', 'restaurant_name', 'country_code', 'city', 'address',\n",
              "       'locality', 'locality_verbose', 'longitude', 'latitude', 'cuisines',\n",
              "       'average_cost_for_two', 'currency', 'has_table_booking',\n",
              "       'has_online_delivery', 'price_range', 'aggregate_rating',\n",
              "       'rating_color', 'rating_text', 'votes'],\n",
              "      dtype='object')"
            ]
          },
          "metadata": {},
          "execution_count": 27
        }
      ]
    },
    {
      "cell_type": "code",
      "source": [
        "print(df_cleaned['average_cost_for_two'].describe())"
      ],
      "metadata": {
        "colab": {
          "base_uri": "https://localhost:8080/"
        },
        "id": "TQSHHGRt_9EC",
        "outputId": "9789a0bc-544e-4fd0-af2c-0230470a4583"
      },
      "execution_count": null,
      "outputs": [
        {
          "output_type": "stream",
          "name": "stdout",
          "text": [
            "count      9550.000000\n",
            "mean       1199.252565\n",
            "std       16122.026663\n",
            "min           0.000000\n",
            "25%         250.000000\n",
            "50%         400.000000\n",
            "75%         700.000000\n",
            "max      800000.000000\n",
            "Name: average_cost_for_two, dtype: float64\n"
          ]
        }
      ]
    },
    {
      "cell_type": "code",
      "source": [
        "cost_distribution = df_cleaned['average_cost_for_two'].sort_index()\n",
        "print(cost_distribution)"
      ],
      "metadata": {
        "colab": {
          "base_uri": "https://localhost:8080/"
        },
        "id": "_6Vi-KqpAMbA",
        "outputId": "d1e7666c-2dd0-48dc-b340-575000ec156e"
      },
      "execution_count": null,
      "outputs": [
        {
          "output_type": "stream",
          "name": "stdout",
          "text": [
            "0       800000\n",
            "1       800000\n",
            "2       500000\n",
            "3       450000\n",
            "4       350000\n",
            "         ...  \n",
            "9546         0\n",
            "9547         0\n",
            "9548         0\n",
            "9549         0\n",
            "9550         0\n",
            "Name: average_cost_for_two, Length: 9550, dtype: int64\n"
          ]
        }
      ]
    },
    {
      "cell_type": "code",
      "source": [
        "import matplotlib.pyplot as plt\n",
        "import seaborn as sns\n",
        "\n",
        "plt.figure(figsize=(10, 6))\n",
        "sns.histplot(df_cleaned['average_cost_for_two'], bins=30, kde=True)\n",
        "plt.title('Distribution of Cost Across Restaurants')\n",
        "plt.xlabel('Average Cost for Two')\n",
        "plt.ylabel('Number of Restaurants')\n",
        "plt.show()"
      ],
      "metadata": {
        "colab": {
          "base_uri": "https://localhost:8080/",
          "height": 564
        },
        "id": "dyba5dxlAntg",
        "outputId": "4238a8a5-3471-4460-dab2-e8321764b1f2"
      },
      "execution_count": null,
      "outputs": [
        {
          "output_type": "display_data",
          "data": {
            "text/plain": [
              "<Figure size 1000x600 with 1 Axes>"
            ],
            "image/png": "[encoded data removed]"
          },
          "metadata": {}
        }
      ]
    },
    {
      "cell_type": "markdown",
      "source": [],
      "metadata": {
        "id": "o5Ed9VKxBRDI"
      }
    },
    {
      "cell_type": "markdown",
      "source": [
        "4- How ratings are distributed among the various factors?\n"
      ],
      "metadata": {
        "id": "hdgFEmloDKGS"
      }
    },
    {
      "cell_type": "code",
      "source": [
        "# Overall distribution of ratings.\n",
        "overall_rating_distribution = df_cleaned['aggregate_rating'].value_counts().sort_index()\n",
        "print(overall_rating_distribution)"
      ],
      "metadata": {
        "id": "ECl4V3ApAt7B",
        "colab": {
          "base_uri": "https://localhost:8080/"
        },
        "outputId": "f12977bc-041b-4173-d297-bc2c3cf619e1"
      },
      "execution_count": null,
      "outputs": [
        {
          "output_type": "stream",
          "name": "stdout",
          "text": [
            "aggregate_rating\n",
            "0.0    2148\n",
            "1.8       1\n",
            "1.9       2\n",
            "2.0       7\n",
            "2.1      15\n",
            "2.2      27\n",
            "2.3      47\n",
            "2.4      87\n",
            "2.5     110\n",
            "2.6     191\n",
            "2.7     250\n",
            "2.8     315\n",
            "2.9     381\n",
            "3.0     468\n",
            "3.1     519\n",
            "3.2     522\n",
            "3.3     483\n",
            "3.4     498\n",
            "3.5     480\n",
            "3.6     458\n",
            "3.7     427\n",
            "3.8     400\n",
            "3.9     335\n",
            "4.0     266\n",
            "4.1     273\n",
            "4.2     221\n",
            "4.3     174\n",
            "4.4     144\n",
            "4.5      95\n",
            "4.6      78\n",
            "4.7      42\n",
            "4.8      25\n",
            "4.9      61\n",
            "Name: count, dtype: int64\n"
          ]
        }
      ]
    },
    {
      "cell_type": "code",
      "source": [
        "# overall distribution of ratings.\n",
        "plt.figure(figsize=(10, 6))\n",
        "ax = sns.histplot(df_cleaned['aggregate_rating'], bins = 10, kde = True, color = 'blue')\n",
        "plt.title('Distribution of Ratings')\n",
        "plt.xlabel('Aggregate Rating')\n",
        "plt.ylabel('Number of Restaurants')\n",
        "plt.show()"
      ],
      "metadata": {
        "colab": {
          "base_uri": "https://localhost:8080/",
          "height": 564
        },
        "id": "5p0nklJ_EZ0O",
        "outputId": "95ec408c-d8fb-419b-c4dd-33365847bcd5"
      },
      "execution_count": null,
      "outputs": [
        {
          "output_type": "display_data",
          "data": {
            "text/plain": [
              "<Figure size 1000x600 with 1 Axes>"
            ],
            "image/png": "[encoded data removed]"
          },
          "metadata": {}
        }
      ]
    },
    {
      "cell_type": "code",
      "source": [
        "# overall distribution of rating among price_range\n",
        "plt.figure(figsize = (6,4))\n",
        "sns.boxplot(x = 'price_range', y = 'aggregate_rating', data = df_cleaned)\n",
        "plt.title('Distribution of Ratings Across Price Range')\n",
        "plt.xlabel('Price Range')\n",
        "plt.ylabel('Aggregate Rating')\n",
        "plt.show()"
      ],
      "metadata": {
        "colab": {
          "base_uri": "https://localhost:8080/",
          "height": 410
        },
        "id": "LYJUCUKFFD_9",
        "outputId": "e448ec18-db28-4789-db14-db86b3dfcfeb"
      },
      "execution_count": null,
      "outputs": [
        {
          "output_type": "display_data",
          "data": {
            "text/plain": [
              "<Figure size 600x400 with 1 Axes>"
            ],
            "image/png": "[encoded data removed]"
          },
          "metadata": {}
        }
      ]
    },
    {
      "cell_type": "code",
      "source": [
        "# Compare ratings among 'has_table_booking'\n",
        "plt.figure(figsize = (6,4))\n",
        "sns.violinplot(x = 'has_table_booking', y = 'aggregate_rating', data = df_cleaned)\n",
        "plt.title('Distribution of Ratings Among Table Booking')\n",
        "plt.xlabel('Has Table Booking')\n",
        "plt.ylabel('Aggregate Rating')\n",
        "plt.show()"
      ],
      "metadata": {
        "colab": {
          "base_uri": "https://localhost:8080/",
          "height": 410
        },
        "id": "0vMheFaeFIOP",
        "outputId": "f887f38e-673a-4732-bb16-9f5687b7e530"
      },
      "execution_count": null,
      "outputs": [
        {
          "output_type": "display_data",
          "data": {
            "text/plain": [
              "<Figure size 600x400 with 1 Axes>"
            ],
            "image/png": "[encoded data removed]"
          },
          "metadata": {}
        }
      ]
    },
    {
      "cell_type": "markdown",
      "source": [
        "5- Explain the factors in the data that may have an effect on ratings. For example, number of cuisines, cost, delivery option, etc.\n"
      ],
      "metadata": {
        "id": "NPzS9IVHMf_I"
      }
    },
    {
      "cell_type": "code",
      "source": [
        "df_cleaned['num_cuisines'] = df_cleaned['cuisines'].fillna('').apply(lambda x: len(x.split(',')) if x != '' else 0)\n",
        "\n",
        "import seaborn as sns\n",
        "import matplotlib.pyplot as plt\n",
        "\n",
        "sns.scatterplot(x='num_cuisines', y='aggregate_rating', data=df_cleaned)\n",
        "plt.title('Relationship between Number of Cuisines and Ratings')\n",
        "plt.xlabel('Number of Cuisines')\n",
        "plt.ylabel('Aggregate Rating')\n",
        "plt.show()\n"
      ],
      "metadata": {
        "colab": {
          "base_uri": "https://localhost:8080/",
          "height": 472
        },
        "id": "ERlGXyfjKr8P",
        "outputId": "3209aa10-d7f0-4256-e0e9-b5ed5689b79b"
      },
      "execution_count": null,
      "outputs": [
        {
          "output_type": "display_data",
          "data": {
            "text/plain": [
              "<Figure size 640x480 with 1 Axes>"
            ],
            "image/png": "[encoded data removed]"
          },
          "metadata": {}
        }
      ]
    },
    {
      "cell_type": "code",
      "source": [
        "sns.scatterplot(x='average_cost_for_two', y='aggregate_rating', data=df_cleaned)\n"
      ],
      "metadata": {
        "id": "bOUFXFh9QaEu",
        "colab": {
          "base_uri": "https://localhost:8080/",
          "height": 467
        },
        "outputId": "5e680c5f-a407-4217-d577-2bd16d83034f"
      },
      "execution_count": null,
      "outputs": [
        {
          "output_type": "execute_result",
          "data": {
            "text/plain": [
              "<Axes: xlabel='average_cost_for_two', ylabel='aggregate_rating'>"
            ]
          },
          "metadata": {},
          "execution_count": 38
        },
        {
          "output_type": "display_data",
          "data": {
            "text/plain": [
              "<Figure size 640x480 with 1 Axes>"
            ],
            "image/png": "[encoded data removed]"
          },
          "metadata": {}
        }
      ]
    },
    {
      "cell_type": "code",
      "source": [
        "sns.boxplot(x='has_online_delivery', y='aggregate_rating', data=df_cleaned)\n",
        "sns.boxplot(x='has_table_booking', y='aggregate_rating', data=df_cleaned)\n"
      ],
      "metadata": {
        "colab": {
          "base_uri": "https://localhost:8080/",
          "height": 467
        },
        "id": "rE35tKs_8Ghv",
        "outputId": "c3027d10-d4b8-4971-cc5d-e8d1cfba4b58"
      },
      "execution_count": null,
      "outputs": [
        {
          "output_type": "execute_result",
          "data": {
            "text/plain": [
              "<Axes: xlabel='has_online_delivery', ylabel='aggregate_rating'>"
            ]
          },
          "metadata": {},
          "execution_count": 39
        },
        {
          "output_type": "display_data",
          "data": {
            "text/plain": [
              "<Figure size 640x480 with 1 Axes>"
            ],
            "image/png": "[encoded data removed]"
          },
          "metadata": {}
        }
      ]
    },
    {
      "cell_type": "code",
      "source": [],
      "metadata": {
        "id": "BcatmHVA8hqa"
      },
      "execution_count": null,
      "outputs": []
    }
  ]
}